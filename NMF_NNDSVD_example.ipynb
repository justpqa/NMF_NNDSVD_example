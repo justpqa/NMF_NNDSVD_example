{
  "nbformat": 4,
  "nbformat_minor": 0,
  "metadata": {
    "colab": {
      "provenance": []
    },
    "kernelspec": {
      "name": "python3",
      "display_name": "Python 3"
    },
    "language_info": {
      "name": "python"
    }
  },
  "cells": [
    {
      "cell_type": "code",
      "source": [
        "import numpy as np\n",
        "from collections import Counter\n",
        "from operator import itemgetter\n",
        "import nltk\n",
        "from nltk.corpus import stopwords\n",
        "nltk.download(\"stopwords\")"
      ],
      "metadata": {
        "id": "zkqepUJCx6Hn",
        "colab": {
          "base_uri": "https://localhost:8080/"
        },
        "outputId": "1eed27a6-22c5-468a-9629-2d034cf4793c"
      },
      "execution_count": 1,
      "outputs": [
        {
          "output_type": "stream",
          "name": "stderr",
          "text": [
            "[nltk_data] Downloading package stopwords to /root/nltk_data...\n",
            "[nltk_data]   Package stopwords is already up-to-date!\n"
          ]
        },
        {
          "output_type": "execute_result",
          "data": {
            "text/plain": [
              "True"
            ]
          },
          "metadata": {},
          "execution_count": 1
        }
      ]
    },
    {
      "cell_type": "code",
      "source": [
        "# functions to extract positive and negative part\n",
        "def pos(vec):\n",
        "  return np.array(list(map(lambda x: max(x, 0), vec)))\n",
        "\n",
        "def neg(vec):\n",
        "  return np.array(list(map(lambda x: max(-x, 0), vec)))\n",
        "\n",
        "def normalize(vec):\n",
        "  return vec / np.linalg.norm(vec)\n",
        "\n",
        "def nndsvd(A, k):\n",
        "  # here we will assume k < rank(A)\n",
        "  # Get shape of A\n",
        "  m, n = A.shape\n",
        "\n",
        "  # conduct SVD\n",
        "  U, S, V = np.linalg.svd(A, full_matrices = False)\n",
        "\n",
        "  # store resulting matrix\n",
        "  W, H = np.zeros((m, k)), np.zeros((k, n))\n",
        "\n",
        "  # update rows and columns of W and H\n",
        "  for i in range(k):\n",
        "    if i == 0:\n",
        "      W[:, 0] = np.sqrt(S[0]) * np.abs(U[:, 0])\n",
        "      H[0, :] = np.sqrt(S[0]) * np.abs(V[0, :])\n",
        "    else:\n",
        "      x = U[:, i]\n",
        "      y = V[i, :]\n",
        "      xp, xn = pos(x), neg(x)\n",
        "      yp, yn = pos(y), neg(y)\n",
        "      if np.linalg.norm(xp) * np.linalg.norm(yp) > np.linalg.norm(xn) * np.linalg.norm(yn):\n",
        "        u = normalize(xp)\n",
        "        v = normalize(yp)\n",
        "        sigma = np.linalg.norm(xp) * np.linalg.norm(yp)\n",
        "      else:\n",
        "        u = normalize(xn)\n",
        "        v = normalize(yn)\n",
        "        sigma = np.linalg.norm(xn) * np.linalg.norm(yn)\n",
        "      W[:, i] = np.sqrt(S[i] * sigma) * u\n",
        "      H[i, :] = np.sqrt(S[i] * sigma) * v\n",
        "  return W, H"
      ],
      "metadata": {
        "id": "V9gC_fKJLm73"
      },
      "execution_count": 2,
      "outputs": []
    },
    {
      "cell_type": "code",
      "source": [
        "test = np.array([[1, 2, 3, 4, 5], [4, 5, 6, 7, 8], [5, 6, 7, 8, 9], [12, 43, 21, 43, 62]])\n",
        "testW, testH = nndsvd(test, 2)\n",
        "print(np.linalg.norm(test - np.dot(testW, testH), \"fro\"))"
      ],
      "metadata": {
        "colab": {
          "base_uri": "https://localhost:8080/"
        },
        "id": "XyEG9be583gP",
        "outputId": "35253f1c-0ed7-49e1-c01f-d2c48de45272"
      },
      "execution_count": 3,
      "outputs": [
        {
          "output_type": "stream",
          "name": "stdout",
          "text": [
            "3.3148991013588183\n"
          ]
        }
      ]
    },
    {
      "cell_type": "code",
      "source": [
        "# function for nmf\n",
        "def NMF(A, k, max_iter = 10000, epsilon = 0.0001):\n",
        "  # using Lee and Seung method\n",
        "  W, H = nndsvd(A, k)\n",
        "  for i in range(max_iter):\n",
        "    temp1 = np.dot(W.T, A) / (np.dot(np.dot(W.T, W), H) + 1e-10)  # Add a small constant to avoid division by zero\n",
        "    H_new = H * temp1\n",
        "    temp2 = np.dot(A, H.T) / (np.dot(np.dot(W, H), H.T) + 1e-10)\n",
        "    W_new = W * temp2\n",
        "    W, H = W_new, H_new\n",
        "    if np.linalg.norm(A - np.dot(W, H), \"fro\") < epsilon:\n",
        "      break\n",
        "  error = np.linalg.norm(A - np.dot(W, H), 'fro')\n",
        "  print(f\"final error is {error}\")\n",
        "  print(f\"final mean error is {error / (A.shape[0] * A.shape[1])}\")\n",
        "  return W, H"
      ],
      "metadata": {
        "id": "-Yr6GUwaAFRC"
      },
      "execution_count": 4,
      "outputs": []
    },
    {
      "cell_type": "code",
      "source": [
        "testW, testH = NMF(test, 2)"
      ],
      "metadata": {
        "colab": {
          "base_uri": "https://localhost:8080/"
        },
        "id": "gTQ2p08zERwI",
        "outputId": "8c490dde-ae01-440d-eb38-25ad05d7c23b"
      },
      "execution_count": 5,
      "outputs": [
        {
          "output_type": "stream",
          "name": "stdout",
          "text": [
            "final error is 1.6632952104592984\n",
            "final mean error is 0.08316476052296493\n"
          ]
        }
      ]
    },
    {
      "cell_type": "code",
      "source": [
        "print(testW)\n",
        "print(testH)"
      ],
      "metadata": {
        "colab": {
          "base_uri": "https://localhost:8080/"
        },
        "id": "tscBWKn5Ebo3",
        "outputId": "dab303e3-461f-4528-d9c1-ff96602174ef"
      },
      "execution_count": 6,
      "outputs": [
        {
          "output_type": "stream",
          "name": "stdout",
          "text": [
            "[[0.68004432 0.58727249]\n",
            " [1.17823535 1.75597028]\n",
            " [1.34429903 2.14553622]\n",
            " [9.42707949 0.        ]]\n",
            "[[1.27700524 4.57009214 2.2404377  4.58621862 6.62028475]\n",
            " [1.44410677 0.         1.92560433 0.92407755 0.        ]]\n"
          ]
        }
      ]
    },
    {
      "cell_type": "code",
      "source": [
        "# our test data\n",
        "testNMF = ['The quick brown fox jumps over the lazy dog',\n",
        "           'In a galaxy far far away there is an epic adventure unfolding',\n",
        "           'Scientific progress is fueled by curiosity and a relentless pursuit of knowledge',\n",
        "           'The beauty of nature lies in its diversity from towering mountains to serene oceans',\n",
        "           'Jazz music with its improvisational flair captures the essence of spontaneity and creativity',\n",
        "           'As technology advances society grapples with ethical dilemmas and questions of privacy',\n",
        "           'A healthy lifestyle encompasses regular exercise balanced nutrition and sufficient rest',\n",
        "           \"Shakespeare's timeless plays continue to resonate with audiences exploring the complexities of human nature\",\n",
        "           'The pursuit of happiness is a fundamental aspect of the human experience',\n",
        "           'Climate change poses significant challenges requiring global cooperation for sustainable solutions',\n",
        "           'Artistic expression knows no bounds from classical paintings to avant-garde installations',\n",
        "           'Democracy thrives when citizens actively engage in civic discourse and exercise their right to vote',\n",
        "           'The internet has revolutionized communication connecting people across continents in an instant',\n",
        "           'Quantum physics delves into the mysterious and mind-bending nature of the subatomic world',\n",
        "           'Cultural diversity enriches our global tapestry fostering understanding and appreciation'\n",
        "           ]\n",
        "testNMF = list(map(lambda x: x.lower(), testNMF))"
      ],
      "metadata": {
        "id": "M2eWsxxSEfP5"
      },
      "execution_count": 7,
      "outputs": []
    },
    {
      "cell_type": "code",
      "source": [
        "# get list of unique words without stopwords\n",
        "stop_words = set(stopwords.words('english'))\n",
        "def get_unique_words(doc_lst):\n",
        "  unique_words = []\n",
        "  for doc in doc_lst:\n",
        "    temp = [d for d in doc.split(\" \") if d not in stop_words]\n",
        "    unique_words.extend(temp)\n",
        "  unique_words = list(set(unique_words))\n",
        "  return unique_words\n",
        "\n",
        "# create term document matrix (using frequency instead of count)\n",
        "def ftdm(doc_lst, unique_words):\n",
        "  # make the resulting matrix\n",
        "  res = np.zeros((len(unique_words), len(doc_lst)))\n",
        "\n",
        "  # now we fill each column\n",
        "  for i, doc in enumerate(doc_lst):\n",
        "    counter = dict(Counter(doc.split(\" \")))\n",
        "    for word in counter:\n",
        "      if word in unique_words:\n",
        "        res[unique_words.index(word), i] = counter[word]\n",
        "\n",
        "  # get frequency and unique words list to use later\n",
        "  return res / np.sum(res, axis = 0)"
      ],
      "metadata": {
        "id": "yQ7iKQi0Jx3i"
      },
      "execution_count": 8,
      "outputs": []
    },
    {
      "cell_type": "code",
      "source": [
        "# now we examine on test data\n",
        "\n",
        "# first get all unique words\n",
        "testNMF_unique_words = get_unique_words(testNMF)\n",
        "\n",
        "# then get frequency matrix\n",
        "testNMF_ftdm = ftdm(testNMF, testNMF_unique_words)\n",
        "\n",
        "# now we do NMF, test with 3 topics return distribution and prevalence\n",
        "testNMF_td, testNMF_tp = NMF(testNMF_ftdm, 4, max_iter = 1000000)"
      ],
      "metadata": {
        "colab": {
          "base_uri": "https://localhost:8080/"
        },
        "id": "_9YDLd8XLoo5",
        "outputId": "78933515-9f5e-4690-b655-c1906c4bb2e3"
      },
      "execution_count": 9,
      "outputs": [
        {
          "output_type": "stream",
          "name": "stdout",
          "text": [
            "final error is 1.1226031191976538\n",
            "final mean error is 0.0006623027251903563\n"
          ]
        }
      ]
    },
    {
      "cell_type": "code",
      "source": [
        "# now we look at our results, first we look at proportion of topics\n",
        "print(testNMF_tp)\n",
        "\n",
        "# we can also look at what toppics does each documents in\n",
        "print(\"\")\n",
        "print(\"What topic does each documents in:\")\n",
        "print(np.argmax(testNMF_tp, axis = 0))"
      ],
      "metadata": {
        "colab": {
          "base_uri": "https://localhost:8080/"
        },
        "id": "CjpE1bZfMonu",
        "outputId": "16778196-8fea-4e3c-d578-516a869f4d40"
      },
      "execution_count": 10,
      "outputs": [
        {
          "output_type": "stream",
          "name": "stdout",
          "text": [
            "[[ 0.          0.          0.33046155  0.          0.          0.\n",
            "   0.          0.08788119  0.55995095  0.          0.          0.\n",
            "   0.          0.          0.        ]\n",
            " [ 0.          0.6548092   0.          0.          0.          0.\n",
            "  -0.         -0.         -0.         -0.         -0.         -0.\n",
            "  -0.         -0.         -0.        ]\n",
            " [ 0.6391206   0.          0.          0.          0.          0.\n",
            "  -0.         -0.         -0.         -0.         -0.         -0.\n",
            "  -0.         -0.         -0.        ]\n",
            " [ 0.          0.          0.          0.42481064  0.          0.\n",
            "   0.          0.15836164  0.          0.06762553 -0.          0.\n",
            "   0.          0.32157052  0.27989066]]\n",
            "\n",
            "What topic does each documents in:\n",
            "[2 1 0 3 0 0 0 3 0 3 0 0 0 3 3]\n"
          ]
        }
      ]
    },
    {
      "cell_type": "code",
      "source": [
        "# we can look at documents with similar topics\n",
        "for i in range(4):\n",
        "  print(f\"documents in topic {i+1}\")\n",
        "  for inx, topic in enumerate(np.argmax(testNMF_tp, axis = 0)):\n",
        "    if topic == i:\n",
        "      print(testNMF[inx])\n",
        "  print(\"\")"
      ],
      "metadata": {
        "colab": {
          "base_uri": "https://localhost:8080/"
        },
        "id": "_pKsUA8OMrvC",
        "outputId": "48bcd7fe-25a6-4550-ec80-5c8cc5688df3"
      },
      "execution_count": 11,
      "outputs": [
        {
          "output_type": "stream",
          "name": "stdout",
          "text": [
            "documents in topic 1\n",
            "scientific progress is fueled by curiosity and a relentless pursuit of knowledge\n",
            "jazz music with its improvisational flair captures the essence of spontaneity and creativity\n",
            "as technology advances society grapples with ethical dilemmas and questions of privacy\n",
            "a healthy lifestyle encompasses regular exercise balanced nutrition and sufficient rest\n",
            "the pursuit of happiness is a fundamental aspect of the human experience\n",
            "artistic expression knows no bounds from classical paintings to avant-garde installations\n",
            "democracy thrives when citizens actively engage in civic discourse and exercise their right to vote\n",
            "the internet has revolutionized communication connecting people across continents in an instant\n",
            "\n",
            "documents in topic 2\n",
            "in a galaxy far far away there is an epic adventure unfolding\n",
            "\n",
            "documents in topic 3\n",
            "the quick brown fox jumps over the lazy dog\n",
            "\n",
            "documents in topic 4\n",
            "the beauty of nature lies in its diversity from towering mountains to serene oceans\n",
            "shakespeare's timeless plays continue to resonate with audiences exploring the complexities of human nature\n",
            "climate change poses significant challenges requiring global cooperation for sustainable solutions\n",
            "quantum physics delves into the mysterious and mind-bending nature of the subatomic world\n",
            "cultural diversity enriches our global tapestry fostering understanding and appreciation\n",
            "\n"
          ]
        }
      ]
    },
    {
      "cell_type": "code",
      "source": [
        "# we can look at top 5 words of each topics\n",
        "for i in range(4):\n",
        "  print(f\"top words in topic {i+1} with probability\")\n",
        "  temp_lst = list(testNMF_td[:, i])\n",
        "  indices = list(sorted(enumerate(temp_lst), key = itemgetter(1)))[-5:][::-1]\n",
        "  top_words = [(testNMF_unique_words[ind[0]]) for ind in indices]\n",
        "  print(top_words)"
      ],
      "metadata": {
        "colab": {
          "base_uri": "https://localhost:8080/"
        },
        "id": "1n4Kf4YBNa1u",
        "outputId": "29ba4cfd-0b58-4ad8-ba22-bb567afd8f10"
      },
      "execution_count": 12,
      "outputs": [
        {
          "output_type": "stream",
          "name": "stdout",
          "text": [
            "top words in topic 1 with probability\n",
            "['pursuit', 'human', 'aspect', 'experience', 'fundamental']\n",
            "top words in topic 2 with probability\n",
            "['far', 'galaxy', 'epic', 'unfolding', 'adventure']\n",
            "top words in topic 3 with probability\n",
            "['fox', 'lazy', 'quick', 'jumps', 'brown']\n",
            "top words in topic 4 with probability\n",
            "['nature', 'diversity', 'beauty', 'serene', 'oceans']\n"
          ]
        }
      ]
    }
  ]
}